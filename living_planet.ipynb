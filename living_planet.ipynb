{
 "cells": [
  {
   "cell_type": "code",
   "execution_count": 4,
   "metadata": {},
   "outputs": [],
   "source": [
    "import pandas as pd\n",
    "import csv"
   ]
  },
  {
   "cell_type": "code",
   "execution_count": 9,
   "metadata": {},
   "outputs": [
    {
     "data": {
      "text/html": [
       "<div>\n",
       "<style scoped>\n",
       "    .dataframe tbody tr th:only-of-type {\n",
       "        vertical-align: middle;\n",
       "    }\n",
       "\n",
       "    .dataframe tbody tr th {\n",
       "        vertical-align: top;\n",
       "    }\n",
       "\n",
       "    .dataframe thead th {\n",
       "        text-align: right;\n",
       "    }\n",
       "</style>\n",
       "<table border=\"1\" class=\"dataframe\">\n",
       "  <thead>\n",
       "    <tr style=\"text-align: right;\">\n",
       "      <th></th>\n",
       "      <th>Region</th>\n",
       "      <th>Year</th>\n",
       "      <th>Average Index</th>\n",
       "      <th>Upper Index</th>\n",
       "      <th>Lower Index</th>\n",
       "    </tr>\n",
       "  </thead>\n",
       "  <tbody>\n",
       "    <tr>\n",
       "      <th>0</th>\n",
       "      <td>Africa</td>\n",
       "      <td>1970</td>\n",
       "      <td>100.000000</td>\n",
       "      <td>100.000000</td>\n",
       "      <td>100.000000</td>\n",
       "    </tr>\n",
       "    <tr>\n",
       "      <th>1</th>\n",
       "      <td>Africa</td>\n",
       "      <td>1971</td>\n",
       "      <td>95.461969</td>\n",
       "      <td>104.910803</td>\n",
       "      <td>87.790567</td>\n",
       "    </tr>\n",
       "    <tr>\n",
       "      <th>2</th>\n",
       "      <td>Africa</td>\n",
       "      <td>1972</td>\n",
       "      <td>94.683413</td>\n",
       "      <td>110.867839</td>\n",
       "      <td>81.479839</td>\n",
       "    </tr>\n",
       "    <tr>\n",
       "      <th>3</th>\n",
       "      <td>Africa</td>\n",
       "      <td>1973</td>\n",
       "      <td>99.181174</td>\n",
       "      <td>120.870721</td>\n",
       "      <td>81.908753</td>\n",
       "    </tr>\n",
       "    <tr>\n",
       "      <th>4</th>\n",
       "      <td>Africa</td>\n",
       "      <td>1974</td>\n",
       "      <td>99.384934</td>\n",
       "      <td>127.877780</td>\n",
       "      <td>77.144610</td>\n",
       "    </tr>\n",
       "    <tr>\n",
       "      <th>...</th>\n",
       "      <td>...</td>\n",
       "      <td>...</td>\n",
       "      <td>...</td>\n",
       "      <td>...</td>\n",
       "      <td>...</td>\n",
       "    </tr>\n",
       "    <tr>\n",
       "      <th>337</th>\n",
       "      <td>World</td>\n",
       "      <td>2014</td>\n",
       "      <td>31.669021</td>\n",
       "      <td>38.071988</td>\n",
       "      <td>26.383458</td>\n",
       "    </tr>\n",
       "    <tr>\n",
       "      <th>338</th>\n",
       "      <td>World</td>\n",
       "      <td>2015</td>\n",
       "      <td>31.627531</td>\n",
       "      <td>38.068720</td>\n",
       "      <td>26.281212</td>\n",
       "    </tr>\n",
       "    <tr>\n",
       "      <th>339</th>\n",
       "      <td>World</td>\n",
       "      <td>2016</td>\n",
       "      <td>31.145408</td>\n",
       "      <td>37.562137</td>\n",
       "      <td>25.770213</td>\n",
       "    </tr>\n",
       "    <tr>\n",
       "      <th>340</th>\n",
       "      <td>World</td>\n",
       "      <td>2017</td>\n",
       "      <td>30.885270</td>\n",
       "      <td>37.343040</td>\n",
       "      <td>25.465452</td>\n",
       "    </tr>\n",
       "    <tr>\n",
       "      <th>341</th>\n",
       "      <td>World</td>\n",
       "      <td>2018</td>\n",
       "      <td>30.897567</td>\n",
       "      <td>37.437807</td>\n",
       "      <td>25.400315</td>\n",
       "    </tr>\n",
       "  </tbody>\n",
       "</table>\n",
       "<p>342 rows × 5 columns</p>\n",
       "</div>"
      ],
      "text/plain": [
       "     Region  Year  Average Index  Upper Index  Lower Index\n",
       "0    Africa  1970     100.000000   100.000000   100.000000\n",
       "1    Africa  1971      95.461969   104.910803    87.790567\n",
       "2    Africa  1972      94.683413   110.867839    81.479839\n",
       "3    Africa  1973      99.181174   120.870721    81.908753\n",
       "4    Africa  1974      99.384934   127.877780    77.144610\n",
       "..      ...   ...            ...          ...          ...\n",
       "337   World  2014      31.669021    38.071988    26.383458\n",
       "338   World  2015      31.627531    38.068720    26.281212\n",
       "339   World  2016      31.145408    37.562137    25.770213\n",
       "340   World  2017      30.885270    37.343040    25.465452\n",
       "341   World  2018      30.897567    37.437807    25.400315\n",
       "\n",
       "[342 rows x 5 columns]"
      ]
     },
     "execution_count": 9,
     "metadata": {},
     "output_type": "execute_result"
    }
   ],
   "source": [
    "living_plan=pd.read_csv('living-planet-index.csv', delimiter=';', )\n",
    "living_plan"
   ]
  },
  {
   "cell_type": "code",
   "execution_count": 15,
   "metadata": {},
   "outputs": [
    {
     "data": {
      "text/plain": [
       "array(['Africa', 'Asia and Pacific', 'Europe and Central Asia',\n",
       "       'Freshwater', 'Latin America and the Caribbean', 'North America',\n",
       "       'World'], dtype=object)"
      ]
     },
     "execution_count": 15,
     "metadata": {},
     "output_type": "execute_result"
    }
   ],
   "source": [
    "region=living_plan['Region']\n",
    "pd.unique(region)"
   ]
  },
  {
   "cell_type": "code",
   "execution_count": 40,
   "metadata": {},
   "outputs": [],
   "source": [
    "africa=living_plan.loc[living_plan['Region']=='Africa', :]\n",
    "asia_pac=living_plan.loc[living_plan['Region']=='Asia and Pacific', :]\n",
    "euro_cent=living_plan.loc[living_plan['Region']=='Europe and Central Asia', :]\n",
    "fresh=living_plan.loc[living_plan['Region']=='Freshwater', :]\n",
    "latin_cab=living_plan.loc[living_plan['Region']=='Latin America and the Carribean', :]\n",
    "n_am=living_plan.loc[living_plan['Region']=='North America', :]\n",
    "world=living_plan.loc[living_plan['Region']=='World', :]\n"
   ]
  },
  {
   "cell_type": "code",
   "execution_count": 20,
   "metadata": {},
   "outputs": [
    {
     "data": {
      "text/plain": [
       "<pandas.core.groupby.generic.DataFrameGroupBy object at 0x000001EFBC9249A0>"
      ]
     },
     "execution_count": 20,
     "metadata": {},
     "output_type": "execute_result"
    }
   ],
   "source": [
    "grouped=living_plan.groupby('Region')\n",
    "grouped"
   ]
  },
  {
   "cell_type": "code",
   "execution_count": 21,
   "metadata": {},
   "outputs": [
    {
     "name": "stdout",
     "output_type": "stream",
     "text": [
      "Africa\n",
      "    Region  Year  Average Index  Upper Index  Lower Index\n",
      "0   Africa  1970     100.000000   100.000000   100.000000\n",
      "1   Africa  1971      95.461969   104.910803    87.790567\n",
      "2   Africa  1972      94.683413   110.867839    81.479839\n",
      "3   Africa  1973      99.181174   120.870721    81.908753\n",
      "4   Africa  1974      99.384934   127.877780    77.144610\n",
      "5   Africa  1975      96.618078   132.448631    69.761962\n",
      "6   Africa  1976      92.430197   134.847964    61.837049\n",
      "7   Africa  1977      87.267120   131.951995    56.343607\n",
      "8   Africa  1978      80.731541   125.727325    50.860652\n",
      "9   Africa  1979      76.925431   125.753896    46.266409\n",
      "10  Africa  1980      76.908188   132.820482    43.880004\n",
      "11  Africa  1981      79.576741   142.615070    43.644803\n",
      "12  Africa  1982      76.407779   139.825309    41.075352\n",
      "13  Africa  1983      73.150326   134.313978    39.057096\n",
      "14  Africa  1984      68.476122   126.081399    36.338758\n",
      "15  Africa  1985      63.735696   117.930698    33.653043\n",
      "16  Africa  1986      59.794008   111.448680    31.480373\n",
      "17  Africa  1987      57.302263   107.707720    30.151214\n",
      "18  Africa  1988      56.041719   105.841556    29.465100\n",
      "19  Africa  1989      55.163692   104.728603    28.956128\n",
      "20  Africa  1990      53.534121   102.047115    27.992062\n",
      "21  Africa  1991      52.495761   100.477368    27.323915\n",
      "22  Africa  1992      52.553061   101.038193    27.247414\n",
      "23  Africa  1993      52.879718   102.226226    27.229813\n",
      "24  Africa  1994      53.799025   104.641124    27.489396\n",
      "25  Africa  1995      53.208982   104.132830    27.013078\n",
      "26  Africa  1996      53.313998   104.831716    26.997987\n",
      "27  Africa  1997      52.358948   103.345493    26.479855\n",
      "28  Africa  1998      51.481283   101.866499    26.052166\n",
      "29  Africa  1999      50.735496   100.538078    25.653647\n",
      "30  Africa  2000      49.847821    99.062809    25.194832\n",
      "31  Africa  2001      47.796942    95.517300    24.047057\n",
      "32  Africa  2002      45.418295    91.410357    22.772600\n",
      "33  Africa  2003      43.467075    88.079304    21.584627\n",
      "34  Africa  2004      43.075903    88.143674    21.047456\n",
      "35  Africa  2005      42.347510    87.520231    20.352491\n",
      "36  Africa  2006      41.760891    87.058087    19.843455\n",
      "37  Africa  2007      41.764032    87.357583    19.829451\n",
      "38  Africa  2008      42.106512    88.000011    19.957817\n",
      "39  Africa  2009      42.209775    88.484710    19.960947\n",
      "40  Africa  2010      41.113392    86.388933    19.391655\n",
      "41  Africa  2011      39.325635    83.075371    18.496185\n",
      "42  Africa  2012      36.957405    78.106899    17.359079\n",
      "43  Africa  2013      34.514539    73.001692    16.184812\n",
      "44  Africa  2014      32.492869    68.628636    15.238575\n",
      "45  Africa  2015      31.293573    66.256152    14.669147\n",
      "46  Africa  2016      32.054221    68.026893    14.968882\n",
      "47  Africa  2017      34.445875    73.433580    15.991854\n"
     ]
    }
   ],
   "source": [
    "for name, group_df in grouped:\n",
    "    print(name)\n",
    "    print(group_df)\n",
    "    break"
   ]
  },
  {
   "cell_type": "code",
   "execution_count": 31,
   "metadata": {},
   "outputs": [
    {
     "name": "stdout",
     "output_type": "stream",
     "text": [
      "Africa : 1970-2017\n",
      "Asia and Pacific : 1970-2018\n",
      "Europe and Central Asia : 1970-2018\n",
      "Freshwater : 1970-2018\n",
      "Latin America and the Caribbean : 1970-2018\n",
      "North America : 1970-2018\n",
      "World : 1970-2018\n"
     ]
    }
   ],
   "source": [
    "for name, group_df in grouped:\n",
    "    min_year=group_df['Year'].min()\n",
    "    max_year=group_df['Year'].max()\n",
    "    print(\"{} : {}-{}\".format(name, min_year, max_year))"
   ]
  },
  {
   "cell_type": "code",
   "execution_count": 28,
   "metadata": {},
   "outputs": [
    {
     "name": "stdout",
     "output_type": "stream",
     "text": [
      "Africa : 31.2935728\n",
      "Asia and Pacific : 43.9966301\n",
      "Europe and Central Asia : 82.2915342\n",
      "Freshwater : 17.1441894\n",
      "Latin America and the Caribbean : 6.4136321\n",
      "North America : 70.2641731\n",
      "World : 30.8852702\n"
     ]
    }
   ],
   "source": [
    "for name, group in grouped:\n",
    "    min_average=group['Average Index'].min()\n",
    "    print('{} : {}'. format(name, min_average))"
   ]
  },
  {
   "cell_type": "code",
   "execution_count": 38,
   "metadata": {},
   "outputs": [
    {
     "data": {
      "text/html": [
       "<div>\n",
       "<style scoped>\n",
       "    .dataframe tbody tr th:only-of-type {\n",
       "        vertical-align: middle;\n",
       "    }\n",
       "\n",
       "    .dataframe tbody tr th {\n",
       "        vertical-align: top;\n",
       "    }\n",
       "\n",
       "    .dataframe thead th {\n",
       "        text-align: right;\n",
       "    }\n",
       "</style>\n",
       "<table border=\"1\" class=\"dataframe\">\n",
       "  <thead>\n",
       "    <tr style=\"text-align: right;\">\n",
       "      <th></th>\n",
       "      <th>Region</th>\n",
       "      <th>Year</th>\n",
       "      <th>Average Index</th>\n",
       "      <th>Upper Index</th>\n",
       "      <th>Lower Index</th>\n",
       "    </tr>\n",
       "  </thead>\n",
       "  <tbody>\n",
       "  </tbody>\n",
       "</table>\n",
       "</div>"
      ],
      "text/plain": [
       "Empty DataFrame\n",
       "Columns: [Region, Year, Average Index, Upper Index, Lower Index]\n",
       "Index: []"
      ]
     },
     "execution_count": 38,
     "metadata": {},
     "output_type": "execute_result"
    }
   ],
   "source": [
    "a_2017=living_plan.loc[living_plan['Year']=='2017', :]\n",
    "a_2017"
   ]
  },
  {
   "cell_type": "code",
   "execution_count": 41,
   "metadata": {},
   "outputs": [
    {
     "data": {
      "text/html": [
       "<div>\n",
       "<style scoped>\n",
       "    .dataframe tbody tr th:only-of-type {\n",
       "        vertical-align: middle;\n",
       "    }\n",
       "\n",
       "    .dataframe tbody tr th {\n",
       "        vertical-align: top;\n",
       "    }\n",
       "\n",
       "    .dataframe thead th {\n",
       "        text-align: right;\n",
       "    }\n",
       "</style>\n",
       "<table border=\"1\" class=\"dataframe\">\n",
       "  <thead>\n",
       "    <tr style=\"text-align: right;\">\n",
       "      <th></th>\n",
       "      <th>Region</th>\n",
       "      <th>Year</th>\n",
       "      <th>Average Index</th>\n",
       "      <th>Upper Index</th>\n",
       "      <th>Lower Index</th>\n",
       "    </tr>\n",
       "  </thead>\n",
       "  <tbody>\n",
       "  </tbody>\n",
       "</table>\n",
       "</div>"
      ],
      "text/plain": [
       "Empty DataFrame\n",
       "Columns: [Region, Year, Average Index, Upper Index, Lower Index]\n",
       "Index: []"
      ]
     },
     "execution_count": 41,
     "metadata": {},
     "output_type": "execute_result"
    }
   ],
   "source": [
    "latin_cab"
   ]
  },
  {
   "cell_type": "code",
   "execution_count": null,
   "metadata": {},
   "outputs": [],
   "source": []
  }
 ],
 "metadata": {
  "kernelspec": {
   "display_name": "code_lou_venv",
   "language": "python",
   "name": "python3"
  },
  "language_info": {
   "codemirror_mode": {
    "name": "ipython",
    "version": 3
   },
   "file_extension": ".py",
   "mimetype": "text/x-python",
   "name": "python",
   "nbconvert_exporter": "python",
   "pygments_lexer": "ipython3",
   "version": "3.9.16"
  },
  "orig_nbformat": 4,
  "vscode": {
   "interpreter": {
    "hash": "ca9b3dd113a63039a18e696f5cba625301237b746aa68548e9afb3ea02563c99"
   }
  }
 },
 "nbformat": 4,
 "nbformat_minor": 2
}
