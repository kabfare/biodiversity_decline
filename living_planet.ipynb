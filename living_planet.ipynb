{
 "cells": [
  {
   "attachments": {},
   "cell_type": "markdown",
   "metadata": {},
   "source": [
    "# Cleaning and Graphing 'living-planet-index.csv'"
   ]
  },
  {
   "attachments": {},
   "cell_type": "markdown",
   "metadata": {},
   "source": [
    "### Importing modules and csv data"
   ]
  },
  {
   "cell_type": "code",
   "execution_count": 22,
   "metadata": {},
   "outputs": [],
   "source": [
    "import pandas as pd\n",
    "import matplotlib.pyplot as plt"
   ]
  },
  {
   "cell_type": "code",
   "execution_count": 23,
   "metadata": {},
   "outputs": [
    {
     "data": {
      "text/html": [
       "<div>\n",
       "<style scoped>\n",
       "    .dataframe tbody tr th:only-of-type {\n",
       "        vertical-align: middle;\n",
       "    }\n",
       "\n",
       "    .dataframe tbody tr th {\n",
       "        vertical-align: top;\n",
       "    }\n",
       "\n",
       "    .dataframe thead th {\n",
       "        text-align: right;\n",
       "    }\n",
       "</style>\n",
       "<table border=\"1\" class=\"dataframe\">\n",
       "  <thead>\n",
       "    <tr style=\"text-align: right;\">\n",
       "      <th></th>\n",
       "      <th>Region</th>\n",
       "      <th>Year</th>\n",
       "      <th>Average Index</th>\n",
       "      <th>Upper Index</th>\n",
       "      <th>Lower Index</th>\n",
       "    </tr>\n",
       "  </thead>\n",
       "  <tbody>\n",
       "    <tr>\n",
       "      <th>0</th>\n",
       "      <td>Africa</td>\n",
       "      <td>1970</td>\n",
       "      <td>100.000000</td>\n",
       "      <td>100.000000</td>\n",
       "      <td>100.000000</td>\n",
       "    </tr>\n",
       "    <tr>\n",
       "      <th>1</th>\n",
       "      <td>Africa</td>\n",
       "      <td>1971</td>\n",
       "      <td>95.461969</td>\n",
       "      <td>104.910803</td>\n",
       "      <td>87.790567</td>\n",
       "    </tr>\n",
       "    <tr>\n",
       "      <th>2</th>\n",
       "      <td>Africa</td>\n",
       "      <td>1972</td>\n",
       "      <td>94.683413</td>\n",
       "      <td>110.867839</td>\n",
       "      <td>81.479839</td>\n",
       "    </tr>\n",
       "    <tr>\n",
       "      <th>3</th>\n",
       "      <td>Africa</td>\n",
       "      <td>1973</td>\n",
       "      <td>99.181174</td>\n",
       "      <td>120.870721</td>\n",
       "      <td>81.908753</td>\n",
       "    </tr>\n",
       "    <tr>\n",
       "      <th>4</th>\n",
       "      <td>Africa</td>\n",
       "      <td>1974</td>\n",
       "      <td>99.384934</td>\n",
       "      <td>127.877780</td>\n",
       "      <td>77.144610</td>\n",
       "    </tr>\n",
       "    <tr>\n",
       "      <th>...</th>\n",
       "      <td>...</td>\n",
       "      <td>...</td>\n",
       "      <td>...</td>\n",
       "      <td>...</td>\n",
       "      <td>...</td>\n",
       "    </tr>\n",
       "    <tr>\n",
       "      <th>337</th>\n",
       "      <td>World</td>\n",
       "      <td>2014</td>\n",
       "      <td>31.669021</td>\n",
       "      <td>38.071988</td>\n",
       "      <td>26.383458</td>\n",
       "    </tr>\n",
       "    <tr>\n",
       "      <th>338</th>\n",
       "      <td>World</td>\n",
       "      <td>2015</td>\n",
       "      <td>31.627531</td>\n",
       "      <td>38.068720</td>\n",
       "      <td>26.281212</td>\n",
       "    </tr>\n",
       "    <tr>\n",
       "      <th>339</th>\n",
       "      <td>World</td>\n",
       "      <td>2016</td>\n",
       "      <td>31.145408</td>\n",
       "      <td>37.562137</td>\n",
       "      <td>25.770213</td>\n",
       "    </tr>\n",
       "    <tr>\n",
       "      <th>340</th>\n",
       "      <td>World</td>\n",
       "      <td>2017</td>\n",
       "      <td>30.885270</td>\n",
       "      <td>37.343040</td>\n",
       "      <td>25.465452</td>\n",
       "    </tr>\n",
       "    <tr>\n",
       "      <th>341</th>\n",
       "      <td>World</td>\n",
       "      <td>2018</td>\n",
       "      <td>30.897567</td>\n",
       "      <td>37.437807</td>\n",
       "      <td>25.400315</td>\n",
       "    </tr>\n",
       "  </tbody>\n",
       "</table>\n",
       "<p>342 rows × 5 columns</p>\n",
       "</div>"
      ],
      "text/plain": [
       "     Region  Year  Average Index  Upper Index  Lower Index\n",
       "0    Africa  1970     100.000000   100.000000   100.000000\n",
       "1    Africa  1971      95.461969   104.910803    87.790567\n",
       "2    Africa  1972      94.683413   110.867839    81.479839\n",
       "3    Africa  1973      99.181174   120.870721    81.908753\n",
       "4    Africa  1974      99.384934   127.877780    77.144610\n",
       "..      ...   ...            ...          ...          ...\n",
       "337   World  2014      31.669021    38.071988    26.383458\n",
       "338   World  2015      31.627531    38.068720    26.281212\n",
       "339   World  2016      31.145408    37.562137    25.770213\n",
       "340   World  2017      30.885270    37.343040    25.465452\n",
       "341   World  2018      30.897567    37.437807    25.400315\n",
       "\n",
       "[342 rows x 5 columns]"
      ]
     },
     "execution_count": 23,
     "metadata": {},
     "output_type": "execute_result"
    }
   ],
   "source": [
    "df = pd.read_csv(\"living-planet-index.csv\", delimiter=\";\")\n",
    "df"
   ]
  },
  {
   "attachments": {},
   "cell_type": "markdown",
   "metadata": {},
   "source": [
    "### Checking Basic Information"
   ]
  },
  {
   "cell_type": "code",
   "execution_count": 24,
   "metadata": {},
   "outputs": [
    {
     "data": {
      "text/plain": [
       "Region            object\n",
       "Year               int64\n",
       "Average Index    float64\n",
       "Upper Index      float64\n",
       "Lower Index      float64\n",
       "dtype: object"
      ]
     },
     "execution_count": 24,
     "metadata": {},
     "output_type": "execute_result"
    }
   ],
   "source": [
    "df.dtypes"
   ]
  },
  {
   "attachments": {},
   "cell_type": "markdown",
   "metadata": {},
   "source": [
    "I also change the 'Year' column to an object to keep the formatting as YYYY."
   ]
  },
  {
   "cell_type": "code",
   "execution_count": 25,
   "metadata": {},
   "outputs": [
    {
     "data": {
      "text/html": [
       "<div>\n",
       "<style scoped>\n",
       "    .dataframe tbody tr th:only-of-type {\n",
       "        vertical-align: middle;\n",
       "    }\n",
       "\n",
       "    .dataframe tbody tr th {\n",
       "        vertical-align: top;\n",
       "    }\n",
       "\n",
       "    .dataframe thead th {\n",
       "        text-align: right;\n",
       "    }\n",
       "</style>\n",
       "<table border=\"1\" class=\"dataframe\">\n",
       "  <thead>\n",
       "    <tr style=\"text-align: right;\">\n",
       "      <th></th>\n",
       "      <th>Region</th>\n",
       "      <th>Year</th>\n",
       "      <th>Average Index</th>\n",
       "      <th>Upper Index</th>\n",
       "      <th>Lower Index</th>\n",
       "    </tr>\n",
       "  </thead>\n",
       "  <tbody>\n",
       "    <tr>\n",
       "      <th>0</th>\n",
       "      <td>Africa</td>\n",
       "      <td>1970</td>\n",
       "      <td>100.000000</td>\n",
       "      <td>100.000000</td>\n",
       "      <td>100.000000</td>\n",
       "    </tr>\n",
       "    <tr>\n",
       "      <th>1</th>\n",
       "      <td>Africa</td>\n",
       "      <td>1971</td>\n",
       "      <td>95.461969</td>\n",
       "      <td>104.910803</td>\n",
       "      <td>87.790567</td>\n",
       "    </tr>\n",
       "    <tr>\n",
       "      <th>2</th>\n",
       "      <td>Africa</td>\n",
       "      <td>1972</td>\n",
       "      <td>94.683413</td>\n",
       "      <td>110.867839</td>\n",
       "      <td>81.479839</td>\n",
       "    </tr>\n",
       "    <tr>\n",
       "      <th>3</th>\n",
       "      <td>Africa</td>\n",
       "      <td>1973</td>\n",
       "      <td>99.181174</td>\n",
       "      <td>120.870721</td>\n",
       "      <td>81.908753</td>\n",
       "    </tr>\n",
       "    <tr>\n",
       "      <th>4</th>\n",
       "      <td>Africa</td>\n",
       "      <td>1974</td>\n",
       "      <td>99.384934</td>\n",
       "      <td>127.877780</td>\n",
       "      <td>77.144610</td>\n",
       "    </tr>\n",
       "  </tbody>\n",
       "</table>\n",
       "</div>"
      ],
      "text/plain": [
       "   Region  Year  Average Index  Upper Index  Lower Index\n",
       "0  Africa  1970     100.000000   100.000000   100.000000\n",
       "1  Africa  1971      95.461969   104.910803    87.790567\n",
       "2  Africa  1972      94.683413   110.867839    81.479839\n",
       "3  Africa  1973      99.181174   120.870721    81.908753\n",
       "4  Africa  1974      99.384934   127.877780    77.144610"
      ]
     },
     "execution_count": 25,
     "metadata": {},
     "output_type": "execute_result"
    }
   ],
   "source": [
    "df[\"Year\"] = df[\"Year\"].astype(\"object\")\n",
    "df.head()"
   ]
  },
  {
   "attachments": {},
   "cell_type": "markdown",
   "metadata": {},
   "source": [
    "Checking the year ranges per region. Africa is missing data."
   ]
  },
  {
   "cell_type": "code",
   "execution_count": 27,
   "metadata": {},
   "outputs": [
    {
     "name": "stdout",
     "output_type": "stream",
     "text": [
      "Africa : 1970-2017\n",
      "Asia and Pacific : 1970-2018\n",
      "Europe and Central Asia : 1970-2018\n",
      "Freshwater : 1970-2018\n",
      "Latin America and the Caribbean : 1970-2018\n",
      "North America : 1970-2018\n",
      "World : 1970-2018\n"
     ]
    }
   ],
   "source": [
    "grouped = df.groupby(\"Region\")\n",
    "\n",
    "for name, group_df in grouped:\n",
    "    min_year = group_df[\"Year\"].min()\n",
    "    max_year = group_df[\"Year\"].max()\n",
    "    print(\"{} : {}-{}\".format(name, min_year, max_year))"
   ]
  },
  {
   "attachments": {},
   "cell_type": "markdown",
   "metadata": {},
   "source": [
    "Here I am concatinating data for the year 2018 in Africa, as that row was missing from the dataframe"
   ]
  },
  {
   "cell_type": "code",
   "execution_count": 28,
   "metadata": {},
   "outputs": [],
   "source": [
    "africa2 = pd.DataFrame(\n",
    "    {\n",
    "        \"Region\": \"Africa\",\n",
    "        \"Year\": 2018,\n",
    "        \"Average Index\": 34.445875,\n",
    "        \"Upper Index\": 73.433580,\n",
    "        \"Lower Index\": 15.991854,\n",
    "    },\n",
    "    index=[48],\n",
    ")\n",
    "df = pd.concat([df.iloc[:48], africa2, df.iloc[48:]]).reset_index()\n",
    "\n",
    "df = df.drop(axis=1, columns=\"index\")"
   ]
  },
  {
   "cell_type": "code",
   "execution_count": 29,
   "metadata": {},
   "outputs": [
    {
     "data": {
      "text/html": [
       "<div>\n",
       "<style scoped>\n",
       "    .dataframe tbody tr th:only-of-type {\n",
       "        vertical-align: middle;\n",
       "    }\n",
       "\n",
       "    .dataframe tbody tr th {\n",
       "        vertical-align: top;\n",
       "    }\n",
       "\n",
       "    .dataframe thead th {\n",
       "        text-align: right;\n",
       "    }\n",
       "</style>\n",
       "<table border=\"1\" class=\"dataframe\">\n",
       "  <thead>\n",
       "    <tr style=\"text-align: right;\">\n",
       "      <th></th>\n",
       "      <th>Year</th>\n",
       "      <th>Average Index</th>\n",
       "      <th>Upper Index</th>\n",
       "      <th>Lower Index</th>\n",
       "    </tr>\n",
       "  </thead>\n",
       "  <tbody>\n",
       "    <tr>\n",
       "      <th>count</th>\n",
       "      <td>343.000000</td>\n",
       "      <td>343.000000</td>\n",
       "      <td>343.000000</td>\n",
       "      <td>343.000000</td>\n",
       "    </tr>\n",
       "    <tr>\n",
       "      <th>mean</th>\n",
       "      <td>1994.000000</td>\n",
       "      <td>67.282340</td>\n",
       "      <td>86.476023</td>\n",
       "      <td>53.949572</td>\n",
       "    </tr>\n",
       "    <tr>\n",
       "      <th>std</th>\n",
       "      <td>14.162796</td>\n",
       "      <td>30.565883</td>\n",
       "      <td>33.694054</td>\n",
       "      <td>29.675512</td>\n",
       "    </tr>\n",
       "    <tr>\n",
       "      <th>min</th>\n",
       "      <td>1970.000000</td>\n",
       "      <td>6.413632</td>\n",
       "      <td>11.390088</td>\n",
       "      <td>3.702799</td>\n",
       "    </tr>\n",
       "    <tr>\n",
       "      <th>25%</th>\n",
       "      <td>1982.000000</td>\n",
       "      <td>43.001867</td>\n",
       "      <td>64.103290</td>\n",
       "      <td>27.237455</td>\n",
       "    </tr>\n",
       "    <tr>\n",
       "      <th>50%</th>\n",
       "      <td>1994.000000</td>\n",
       "      <td>70.793945</td>\n",
       "      <td>95.954016</td>\n",
       "      <td>53.673369</td>\n",
       "    </tr>\n",
       "    <tr>\n",
       "      <th>75%</th>\n",
       "      <td>2006.000000</td>\n",
       "      <td>92.759890</td>\n",
       "      <td>108.288317</td>\n",
       "      <td>78.816935</td>\n",
       "    </tr>\n",
       "    <tr>\n",
       "      <th>max</th>\n",
       "      <td>2018.000000</td>\n",
       "      <td>130.741073</td>\n",
       "      <td>152.570576</td>\n",
       "      <td>112.142994</td>\n",
       "    </tr>\n",
       "  </tbody>\n",
       "</table>\n",
       "</div>"
      ],
      "text/plain": [
       "              Year  Average Index  Upper Index  Lower Index\n",
       "count   343.000000     343.000000   343.000000   343.000000\n",
       "mean   1994.000000      67.282340    86.476023    53.949572\n",
       "std      14.162796      30.565883    33.694054    29.675512\n",
       "min    1970.000000       6.413632    11.390088     3.702799\n",
       "25%    1982.000000      43.001867    64.103290    27.237455\n",
       "50%    1994.000000      70.793945    95.954016    53.673369\n",
       "75%    2006.000000      92.759890   108.288317    78.816935\n",
       "max    2018.000000     130.741073   152.570576   112.142994"
      ]
     },
     "execution_count": 29,
     "metadata": {},
     "output_type": "execute_result"
    }
   ],
   "source": [
    "df.describe()"
   ]
  },
  {
   "cell_type": "code",
   "execution_count": 30,
   "metadata": {},
   "outputs": [
    {
     "data": {
      "text/plain": [
       "array(['Africa', 'Asia and Pacific', 'Europe and Central Asia',\n",
       "       'Freshwater', 'Latin America and the Caribbean', 'North America',\n",
       "       'World'], dtype=object)"
      ]
     },
     "execution_count": 30,
     "metadata": {},
     "output_type": "execute_result"
    }
   ],
   "source": [
    "region = df[\"Region\"]\n",
    "pd.unique(region)"
   ]
  },
  {
   "attachments": {},
   "cell_type": "markdown",
   "metadata": {},
   "source": [
    "### Grouping Function\n",
    "\n",
    "Here I made a function that divides the 'Region' column into groups by region name and saves each group to a variable. This will help me graph the data later."
   ]
  },
  {
   "cell_type": "code",
   "execution_count": 31,
   "metadata": {},
   "outputs": [],
   "source": [
    "def save_groupby(df):\n",
    "    grouped = df.groupby(\"Region\")\n",
    "    groups = []\n",
    "    for _, group in grouped:\n",
    "        groups.append(group)\n",
    "    return tuple(groups)\n",
    "\n",
    "\n",
    "africa, asia, euro, fresh, latin, nam, world = save_groupby(df)"
   ]
  },
  {
   "attachments": {},
   "cell_type": "markdown",
   "metadata": {},
   "source": [
    "Testing the function by calling a group."
   ]
  },
  {
   "cell_type": "code",
   "execution_count": 32,
   "metadata": {},
   "outputs": [
    {
     "data": {
      "text/html": [
       "<div>\n",
       "<style scoped>\n",
       "    .dataframe tbody tr th:only-of-type {\n",
       "        vertical-align: middle;\n",
       "    }\n",
       "\n",
       "    .dataframe tbody tr th {\n",
       "        vertical-align: top;\n",
       "    }\n",
       "\n",
       "    .dataframe thead th {\n",
       "        text-align: right;\n",
       "    }\n",
       "</style>\n",
       "<table border=\"1\" class=\"dataframe\">\n",
       "  <thead>\n",
       "    <tr style=\"text-align: right;\">\n",
       "      <th></th>\n",
       "      <th>Region</th>\n",
       "      <th>Year</th>\n",
       "      <th>Average Index</th>\n",
       "      <th>Upper Index</th>\n",
       "      <th>Lower Index</th>\n",
       "    </tr>\n",
       "  </thead>\n",
       "  <tbody>\n",
       "    <tr>\n",
       "      <th>44</th>\n",
       "      <td>Africa</td>\n",
       "      <td>2014</td>\n",
       "      <td>32.492869</td>\n",
       "      <td>68.628636</td>\n",
       "      <td>15.238575</td>\n",
       "    </tr>\n",
       "    <tr>\n",
       "      <th>45</th>\n",
       "      <td>Africa</td>\n",
       "      <td>2015</td>\n",
       "      <td>31.293573</td>\n",
       "      <td>66.256152</td>\n",
       "      <td>14.669147</td>\n",
       "    </tr>\n",
       "    <tr>\n",
       "      <th>46</th>\n",
       "      <td>Africa</td>\n",
       "      <td>2016</td>\n",
       "      <td>32.054221</td>\n",
       "      <td>68.026893</td>\n",
       "      <td>14.968882</td>\n",
       "    </tr>\n",
       "    <tr>\n",
       "      <th>47</th>\n",
       "      <td>Africa</td>\n",
       "      <td>2017</td>\n",
       "      <td>34.445875</td>\n",
       "      <td>73.433580</td>\n",
       "      <td>15.991854</td>\n",
       "    </tr>\n",
       "    <tr>\n",
       "      <th>48</th>\n",
       "      <td>Africa</td>\n",
       "      <td>2018</td>\n",
       "      <td>34.445875</td>\n",
       "      <td>73.433580</td>\n",
       "      <td>15.991854</td>\n",
       "    </tr>\n",
       "  </tbody>\n",
       "</table>\n",
       "</div>"
      ],
      "text/plain": [
       "    Region  Year  Average Index  Upper Index  Lower Index\n",
       "44  Africa  2014      32.492869    68.628636    15.238575\n",
       "45  Africa  2015      31.293573    66.256152    14.669147\n",
       "46  Africa  2016      32.054221    68.026893    14.968882\n",
       "47  Africa  2017      34.445875    73.433580    15.991854\n",
       "48  Africa  2018      34.445875    73.433580    15.991854"
      ]
     },
     "execution_count": 32,
     "metadata": {},
     "output_type": "execute_result"
    }
   ],
   "source": [
    "africa.tail()"
   ]
  },
  {
   "attachments": {},
   "cell_type": "markdown",
   "metadata": {},
   "source": [
    "Saving the wrangled data as an Excel spreadsheet to use on my streamlit code."
   ]
  },
  {
   "cell_type": "code",
   "execution_count": 33,
   "metadata": {},
   "outputs": [],
   "source": [
    "df.to_excel(\"living-planet-spread.xlsx\")"
   ]
  },
  {
   "attachments": {},
   "cell_type": "markdown",
   "metadata": {},
   "source": [
    "### Minimum, Maximum, and Mean Averages by Region"
   ]
  },
  {
   "attachments": {},
   "cell_type": "markdown",
   "metadata": {},
   "source": [
    "I create a function to return these averages by region."
   ]
  },
  {
   "cell_type": "code",
   "execution_count": 34,
   "metadata": {},
   "outputs": [
    {
     "name": "stdout",
     "output_type": "stream",
     "text": [
      "Africa : Min - 31.2935728 | Mean - 59.11652187291667 | Max - 100.0\n",
      "Asia and Pacific : Min - 43.9966301 | Mean - 76.62235177755102 | Max - 106.0154597\n",
      "Europe and Central Asia : Min - 82.2915342 | Mean - 108.34827702244897 | Max - 130.7410732\n",
      "Freshwater : Min - 17.1441894 | Mean - 47.68026474693878 | Max - 100.0\n",
      "Latin America and the Caribbean : Min - 6.4136321 | Mean - 37.97101597346939 | Max - 101.0071636\n",
      "North America : Min - 70.2641731 | Mean - 82.19552640816326 | Max - 100.0\n",
      "World : Min - 30.8852702 | Mean - 59.54590406734694 | Max - 100.0\n",
      "None\n"
     ]
    }
   ],
   "source": [
    "def stats(df, col_name):\n",
    "    for name, group in grouped:\n",
    "        av_col = group[col_name]\n",
    "        min_av = av_col.min()\n",
    "        mean = av_col.mean()\n",
    "        max_av = av_col.max()\n",
    "        print(\"{} : Min - {} | Mean - {} | Max - {}\".format(name, min_av, mean, max_av))\n",
    "\n",
    "\n",
    "print(stats(df, \"Average Index\"))"
   ]
  },
  {
   "attachments": {},
   "cell_type": "markdown",
   "metadata": {},
   "source": [
    "I also identify the region with the lowest biodiversity score."
   ]
  },
  {
   "cell_type": "code",
   "execution_count": 35,
   "metadata": {},
   "outputs": [
    {
     "data": {
      "text/plain": [
       "244"
      ]
     },
     "execution_count": 35,
     "metadata": {},
     "output_type": "execute_result"
    }
   ],
   "source": [
    "df[\"Average Index\"].idxmin()"
   ]
  },
  {
   "cell_type": "code",
   "execution_count": 36,
   "metadata": {},
   "outputs": [
    {
     "data": {
      "text/plain": [
       "Region           Latin America and the Caribbean\n",
       "Year                                        2017\n",
       "Average Index                           6.855036\n",
       "Upper Index                            11.918571\n",
       "Lower Index                             4.033493\n",
       "Name: 243, dtype: object"
      ]
     },
     "execution_count": 36,
     "metadata": {},
     "output_type": "execute_result"
    }
   ],
   "source": [
    "df.loc[243, :]"
   ]
  },
  {
   "attachments": {},
   "cell_type": "markdown",
   "metadata": {},
   "source": [
    "### Graphing the Data"
   ]
  },
  {
   "cell_type": "code",
   "execution_count": 39,
   "metadata": {},
   "outputs": [
    {
     "data": {
      "text/plain": [
       "<matplotlib.legend.Legend at 0x20c3f40c5e0>"
      ]
     },
     "execution_count": 39,
     "metadata": {},
     "output_type": "execute_result"
    },
    {
     "data": {
      "image/png": "[encoded data removed]",
      "text/plain": [
       "<Figure size 1200x800 with 1 Axes>"
      ]
     },
     "metadata": {},
     "output_type": "display_data"
    }
   ],
   "source": [
    "plt.figure(figsize=(12, 8))\n",
    "plt.title(\"Living Planet Index\")\n",
    "plt.xlabel(\"Year\")\n",
    "plt.ylabel(\"Average\")\n",
    "plt.plot(africa[\"Year\"], africa[\"Average Index\"])\n",
    "plt.plot(asia[\"Year\"], asia[\"Average Index\"])\n",
    "plt.plot(latin[\"Year\"], latin[\"Average Index\"])\n",
    "plt.plot(nam[\"Year\"], nam[\"Average Index\"])\n",
    "plt.plot(euro[\"Year\"], euro[\"Average Index\"])\n",
    "plt.bar(world[\"Year\"], world[\"Average Index\"], color=\"lavender\")\n",
    "plt.legend(\n",
    "    [\n",
    "        \"Africa\",\n",
    "        \"Asia\",\n",
    "        \"Latin America and Caribbean\",\n",
    "        \"North America\",\n",
    "        \"Europe and Central Asia\",\n",
    "        \"World\",\n",
    "    ]\n",
    ")"
   ]
  }
 ],
 "metadata": {
  "kernelspec": {
   "display_name": "code_lou_venv",
   "language": "python",
   "name": "python3"
  },
  "language_info": {
   "codemirror_mode": {
    "name": "ipython",
    "version": 3
   },
   "file_extension": ".py",
   "mimetype": "text/x-python",
   "name": "python",
   "nbconvert_exporter": "python",
   "pygments_lexer": "ipython3",
   "version": "3.9.16"
  },
  "orig_nbformat": 4,
  "vscode": {
   "interpreter": {
    "hash": "ca9b3dd113a63039a18e696f5cba625301237b746aa68548e9afb3ea02563c99"
   }
  }
 },
 "nbformat": 4,
 "nbformat_minor": 2
}
