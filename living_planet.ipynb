{
 "cells": [
  {
   "cell_type": "code",
   "execution_count": 71,
   "metadata": {},
   "outputs": [],
   "source": [
    "import pandas as pd\n",
    "import csv\n",
    "import matplotlib.pyplot as plt"
   ]
  },
  {
   "cell_type": "code",
   "execution_count": 34,
   "metadata": {},
   "outputs": [
    {
     "data": {
      "text/html": [
       "<div>\n",
       "<style scoped>\n",
       "    .dataframe tbody tr th:only-of-type {\n",
       "        vertical-align: middle;\n",
       "    }\n",
       "\n",
       "    .dataframe tbody tr th {\n",
       "        vertical-align: top;\n",
       "    }\n",
       "\n",
       "    .dataframe thead th {\n",
       "        text-align: right;\n",
       "    }\n",
       "</style>\n",
       "<table border=\"1\" class=\"dataframe\">\n",
       "  <thead>\n",
       "    <tr style=\"text-align: right;\">\n",
       "      <th></th>\n",
       "      <th>Region</th>\n",
       "      <th>Year</th>\n",
       "      <th>Average Index</th>\n",
       "      <th>Upper Index</th>\n",
       "      <th>Lower Index</th>\n",
       "    </tr>\n",
       "  </thead>\n",
       "  <tbody>\n",
       "    <tr>\n",
       "      <th>0</th>\n",
       "      <td>Africa</td>\n",
       "      <td>1970</td>\n",
       "      <td>100.000000</td>\n",
       "      <td>100.000000</td>\n",
       "      <td>100.000000</td>\n",
       "    </tr>\n",
       "    <tr>\n",
       "      <th>1</th>\n",
       "      <td>Africa</td>\n",
       "      <td>1971</td>\n",
       "      <td>95.461969</td>\n",
       "      <td>104.910803</td>\n",
       "      <td>87.790567</td>\n",
       "    </tr>\n",
       "    <tr>\n",
       "      <th>2</th>\n",
       "      <td>Africa</td>\n",
       "      <td>1972</td>\n",
       "      <td>94.683413</td>\n",
       "      <td>110.867839</td>\n",
       "      <td>81.479839</td>\n",
       "    </tr>\n",
       "    <tr>\n",
       "      <th>3</th>\n",
       "      <td>Africa</td>\n",
       "      <td>1973</td>\n",
       "      <td>99.181174</td>\n",
       "      <td>120.870721</td>\n",
       "      <td>81.908753</td>\n",
       "    </tr>\n",
       "    <tr>\n",
       "      <th>4</th>\n",
       "      <td>Africa</td>\n",
       "      <td>1974</td>\n",
       "      <td>99.384934</td>\n",
       "      <td>127.877780</td>\n",
       "      <td>77.144610</td>\n",
       "    </tr>\n",
       "    <tr>\n",
       "      <th>...</th>\n",
       "      <td>...</td>\n",
       "      <td>...</td>\n",
       "      <td>...</td>\n",
       "      <td>...</td>\n",
       "      <td>...</td>\n",
       "    </tr>\n",
       "    <tr>\n",
       "      <th>337</th>\n",
       "      <td>World</td>\n",
       "      <td>2014</td>\n",
       "      <td>31.669021</td>\n",
       "      <td>38.071988</td>\n",
       "      <td>26.383458</td>\n",
       "    </tr>\n",
       "    <tr>\n",
       "      <th>338</th>\n",
       "      <td>World</td>\n",
       "      <td>2015</td>\n",
       "      <td>31.627531</td>\n",
       "      <td>38.068720</td>\n",
       "      <td>26.281212</td>\n",
       "    </tr>\n",
       "    <tr>\n",
       "      <th>339</th>\n",
       "      <td>World</td>\n",
       "      <td>2016</td>\n",
       "      <td>31.145408</td>\n",
       "      <td>37.562137</td>\n",
       "      <td>25.770213</td>\n",
       "    </tr>\n",
       "    <tr>\n",
       "      <th>340</th>\n",
       "      <td>World</td>\n",
       "      <td>2017</td>\n",
       "      <td>30.885270</td>\n",
       "      <td>37.343040</td>\n",
       "      <td>25.465452</td>\n",
       "    </tr>\n",
       "    <tr>\n",
       "      <th>341</th>\n",
       "      <td>World</td>\n",
       "      <td>2018</td>\n",
       "      <td>30.897567</td>\n",
       "      <td>37.437807</td>\n",
       "      <td>25.400315</td>\n",
       "    </tr>\n",
       "  </tbody>\n",
       "</table>\n",
       "<p>342 rows × 5 columns</p>\n",
       "</div>"
      ],
      "text/plain": [
       "     Region  Year  Average Index  Upper Index  Lower Index\n",
       "0    Africa  1970     100.000000   100.000000   100.000000\n",
       "1    Africa  1971      95.461969   104.910803    87.790567\n",
       "2    Africa  1972      94.683413   110.867839    81.479839\n",
       "3    Africa  1973      99.181174   120.870721    81.908753\n",
       "4    Africa  1974      99.384934   127.877780    77.144610\n",
       "..      ...   ...            ...          ...          ...\n",
       "337   World  2014      31.669021    38.071988    26.383458\n",
       "338   World  2015      31.627531    38.068720    26.281212\n",
       "339   World  2016      31.145408    37.562137    25.770213\n",
       "340   World  2017      30.885270    37.343040    25.465452\n",
       "341   World  2018      30.897567    37.437807    25.400315\n",
       "\n",
       "[342 rows x 5 columns]"
      ]
     },
     "execution_count": 34,
     "metadata": {},
     "output_type": "execute_result"
    }
   ],
   "source": [
    "df=pd.read_csv('living-planet-index.csv', delimiter=';', )\n",
    "df"
   ]
  },
  {
   "cell_type": "code",
   "execution_count": 35,
   "metadata": {},
   "outputs": [
    {
     "data": {
      "text/plain": [
       "array(['Africa', 'Asia and Pacific', 'Europe and Central Asia',\n",
       "       'Freshwater', 'Latin America and the Caribbean', 'North America',\n",
       "       'World'], dtype=object)"
      ]
     },
     "execution_count": 35,
     "metadata": {},
     "output_type": "execute_result"
    }
   ],
   "source": [
    "region=df['Region']\n",
    "pd.unique(region)"
   ]
  },
  {
   "cell_type": "code",
   "execution_count": 54,
   "metadata": {},
   "outputs": [],
   "source": [
    "#grouped=df.groupby('Region')\n",
    "#africa=grouped.get_group('Africa')\n",
    "\n",
    "def save_groupby(df, group_col):\n",
    "    grouped=df.groupby('Region')\n",
    "    groups=[]\n",
    "    for name, group in grouped:\n",
    "        groups.append(group)\n",
    "    return tuple(groups)\n",
    "\n",
    "africa, asia, euro, fresh, latin, nam, world=save_groupby(df, 'Region')\n"
   ]
  },
  {
   "cell_type": "code",
   "execution_count": 55,
   "metadata": {},
   "outputs": [],
   "source": [
    "grouped=df.groupby('Region')"
   ]
  },
  {
   "cell_type": "code",
   "execution_count": 39,
   "metadata": {},
   "outputs": [
    {
     "name": "stdout",
     "output_type": "stream",
     "text": [
      "Africa : 1970-2017\n",
      "Asia and Pacific : 1970-2018\n",
      "Europe and Central Asia : 1970-2018\n",
      "Freshwater : 1970-2018\n",
      "Latin America and the Caribbean : 1970-2018\n",
      "North America : 1970-2018\n",
      "World : 1970-2018\n"
     ]
    }
   ],
   "source": [
    "for name, group_df in grouped:\n",
    "    min_year=group_df['Year'].min()\n",
    "    max_year=group_df['Year'].max()\n",
    "    print(\"{} : {}-{}\".format(name, min_year, max_year))"
   ]
  },
  {
   "cell_type": "code",
   "execution_count": 40,
   "metadata": {},
   "outputs": [
    {
     "name": "stdout",
     "output_type": "stream",
     "text": [
      "Africa : 31.2935728\n",
      "Asia and Pacific : 43.9966301\n",
      "Europe and Central Asia : 82.2915342\n",
      "Freshwater : 17.1441894\n",
      "Latin America and the Caribbean : 6.4136321\n",
      "North America : 70.2641731\n",
      "World : 30.8852702\n"
     ]
    }
   ],
   "source": [
    "for name, group in grouped:\n",
    "    min_average=group['Average Index'].min()\n",
    "    print('{} : {}'. format(name, min_average))"
   ]
  },
  {
   "cell_type": "code",
   "execution_count": 59,
   "metadata": {},
   "outputs": [
    {
     "data": {
      "text/plain": [
       "243"
      ]
     },
     "execution_count": 59,
     "metadata": {},
     "output_type": "execute_result"
    }
   ],
   "source": [
    "df['Average Index'].idxmin()"
   ]
  },
  {
   "cell_type": "code",
   "execution_count": 60,
   "metadata": {},
   "outputs": [
    {
     "data": {
      "text/plain": [
       "Region           Latin America and the Caribbean\n",
       "Year                                        2018\n",
       "Average Index                           6.413632\n",
       "Upper Index                            11.390088\n",
       "Lower Index                             3.702799\n",
       "Name: 243, dtype: object"
      ]
     },
     "execution_count": 60,
     "metadata": {},
     "output_type": "execute_result"
    }
   ],
   "source": [
    "df.loc[243, :]"
   ]
  },
  {
   "cell_type": "code",
   "execution_count": 61,
   "metadata": {},
   "outputs": [
    {
     "data": {
      "text/plain": [
       "Region            object\n",
       "Year               int64\n",
       "Average Index    float64\n",
       "Upper Index      float64\n",
       "Lower Index      float64\n",
       "dtype: object"
      ]
     },
     "execution_count": 61,
     "metadata": {},
     "output_type": "execute_result"
    }
   ],
   "source": [
    "df.dtypes"
   ]
  },
  {
   "cell_type": "code",
   "execution_count": 62,
   "metadata": {},
   "outputs": [],
   "source": [
    "region=df['Region']\n",
    "year=df['Year']\n",
    "av_ind=df['Average Index']\n",
    "up_ind=df['Upper Index']\n",
    "lo_ind=df['Lower Index']"
   ]
  },
  {
   "cell_type": "code",
   "execution_count": 82,
   "metadata": {},
   "outputs": [
    {
     "data": {
      "text/plain": [
       "[<matplotlib.lines.Line2D at 0x19a49b9f190>]"
      ]
     },
     "execution_count": 82,
     "metadata": {},
     "output_type": "execute_result"
    },
    {
     "data": {
      "image/png": "[encoded data removed]",
      "text/plain": [
       "<Figure size 1200x600 with 1 Axes>"
      ]
     },
     "metadata": {},
     "output_type": "display_data"
    }
   ],
   "source": [
    "plt.figure(figsize=(12,6))\n",
    "plt.title('Living Planet Index')\n",
    "plt.xlabel('Year')\n",
    "plt.ylabel('Average')\n",
    "plt.legend(['Africa', 'Latin America and Caribbean', 'North America', 'Europe and Central Asia'])\n",
    "plt.plot(africa['Year'], africa['Average Index'])\n",
    "plt.plot(latin['Year'], latin['Average Index'])\n",
    "plt.plot(nam['Year'], nam['Average Index'])\n",
    "plt.plot(euro['Year'], euro['Average Index'])"
   ]
  },
  {
   "cell_type": "code",
   "execution_count": null,
   "metadata": {},
   "outputs": [],
   "source": []
  }
 ],
 "metadata": {
  "kernelspec": {
   "display_name": "code_lou_venv",
   "language": "python",
   "name": "python3"
  },
  "language_info": {
   "codemirror_mode": {
    "name": "ipython",
    "version": 3
   },
   "file_extension": ".py",
   "mimetype": "text/x-python",
   "name": "python",
   "nbconvert_exporter": "python",
   "pygments_lexer": "ipython3",
   "version": "3.9.16"
  },
  "orig_nbformat": 4,
  "vscode": {
   "interpreter": {
    "hash": "ca9b3dd113a63039a18e696f5cba625301237b746aa68548e9afb3ea02563c99"
   }
  }
 },
 "nbformat": 4,
 "nbformat_minor": 2
}
